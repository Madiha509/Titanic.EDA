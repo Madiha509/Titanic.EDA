{
 "cells": [
  {
   "cell_type": "markdown",
   "id": "e69f4423",
   "metadata": {},
   "source": [
    "# Titanic Dataset — Exploratory Data Analysis\n",
    "*Generated: 2025-08-19 14:42:01*\n",
    "\n",
    "**Data Source**: Using uploaded titanic.csv (Kaggle Titanic train.csv)\n"
   ]
  },
  {
   "cell_type": "code",
   "execution_count": null,
   "id": "762b38eb",
   "metadata": {},
   "outputs": [],
   "source": [
    "import pandas as pd, numpy as np, matplotlib.pyplot as plt\n",
    "df = pd.read_csv('titanic.csv')\n",
    "df.head()"
   ]
  },
  {
   "cell_type": "code",
   "execution_count": null,
   "id": "55bc2a45",
   "metadata": {},
   "outputs": [],
   "source": [
    "df.info()"
   ]
  },
  {
   "cell_type": "code",
   "execution_count": null,
   "id": "b86722f3",
   "metadata": {},
   "outputs": [],
   "source": [
    "df.describe(include='all', datetime_is_numeric=True)"
   ]
  },
  {
   "cell_type": "code",
   "execution_count": null,
   "id": "4c9a8302",
   "metadata": {},
   "outputs": [],
   "source": [
    "df.isna().sum().sort_values(ascending=False)"
   ]
  },
  {
   "cell_type": "code",
   "execution_count": null,
   "id": "ca8c789a",
   "metadata": {},
   "outputs": [],
   "source": [
    "df['Age'].dropna().plot(kind='hist', bins=30, title='Age Distribution'); plt.show()"
   ]
  },
  {
   "cell_type": "code",
   "execution_count": null,
   "id": "2476ebdf",
   "metadata": {},
   "outputs": [],
   "source": [
    "df['Fare'].dropna().plot(kind='hist', bins=30, title='Fare Distribution'); plt.show()"
   ]
  },
  {
   "cell_type": "code",
   "execution_count": null,
   "id": "3e491af1",
   "metadata": {},
   "outputs": [],
   "source": [
    "valid=df[['Fare','Pclass']].dropna(); groups=[valid[valid['Pclass']==c]['Fare'] for c in sorted(valid['Pclass'].unique())];\n",
    "plt.boxplot(groups, labels=[str(c) for c in sorted(valid['Pclass'].unique())]); plt.title('Fare by Pclass'); plt.show()"
   ]
  },
  {
   "cell_type": "code",
   "execution_count": null,
   "id": "4d7891f7",
   "metadata": {},
   "outputs": [],
   "source": [
    "valid=df[['Age','Survived']].dropna(); groups=[valid[valid['Survived']==s]['Age'] for s in sorted(valid['Survived'].unique())];\n",
    "plt.boxplot(groups, labels=[str(s) for s in sorted(valid['Survived'].unique())]); plt.title('Age by Survival'); plt.show()"
   ]
  },
  {
   "cell_type": "code",
   "execution_count": null,
   "id": "bb413344",
   "metadata": {},
   "outputs": [],
   "source": [
    "df.groupby('Sex')['Survived'].mean().plot(kind='bar', title='Survival Rate by Sex'); plt.show()"
   ]
  },
  {
   "cell_type": "code",
   "execution_count": null,
   "id": "c729b4b8",
   "metadata": {},
   "outputs": [],
   "source": [
    "df.groupby('Pclass')['Survived'].mean().plot(kind='bar', title='Survival Rate by Pclass'); plt.show()"
   ]
  },
  {
   "cell_type": "code",
   "execution_count": null,
   "id": "0708f7ad",
   "metadata": {},
   "outputs": [],
   "source": [
    "counts=df.groupby(['Pclass','Survived']).size().unstack(fill_value=0);\n",
    "x=np.arange(len(counts.index)); width=0.35;\n",
    "plt.bar(x-width/2, counts[0], width, label='Did not survive');\n",
    "plt.bar(x+width/2, counts[1], width, label='Survived');\n",
    "plt.xticks(x, counts.index.astype(str)); plt.legend(); plt.title('Counts by Pclass and Survival'); plt.show()"
   ]
  },
  {
   "cell_type": "code",
   "execution_count": null,
   "id": "4102ae25",
   "metadata": {},
   "outputs": [],
   "source": [
    "sub=df[['Age','Fare','Survived']].dropna();\n",
    "plt.scatter(sub[sub['Survived']==0]['Age'], sub[sub['Survived']==0]['Fare'], label='Did not survive', alpha=0.6);\n",
    "plt.scatter(sub[sub['Survived']==1]['Age'], sub[sub['Survived']==1]['Fare'], label='Survived', alpha=0.6);\n",
    "plt.legend(); plt.title('Age vs Fare by Survival'); plt.show()"
   ]
  },
  {
   "cell_type": "code",
   "execution_count": null,
   "id": "4f29d130",
   "metadata": {},
   "outputs": [],
   "source": [
    "num_df=df.select_dtypes(include=[np.number]).dropna(); corr=num_df.corr();\n",
    "im=plt.imshow(corr, interpolation='nearest'); plt.xticks(range(len(corr.columns)), corr.columns, rotation=45);\n",
    "plt.yticks(range(len(corr.columns)), corr.columns); plt.colorbar(im); plt.title('Correlation Matrix'); plt.show()"
   ]
  },
  {
   "cell_type": "markdown",
   "id": "92a29d0c",
   "metadata": {},
   "source": [
    "## Observations\n",
    "- Age: skewed toward young adults; missing values exist.\n",
    "- Fare: right-skewed; wide spread especially in 1st class.\n",
    "- Fare vs Pclass: strong separation, higher class => higher fare.\n",
    "- Age vs Survival: children had higher survival than some adults.\n",
    "- Survival Rate by Sex: females survived at higher rates.\n",
    "- Survival Rate by Pclass: higher classes show higher survival.\n",
    "- Counts: 3rd class had many non-survivors.\n",
    "- Age vs Fare scatter: survivors more common at higher fares.\n",
    "- Correlations: Survived positively linked to Fare, negatively to Pclass."
   ]
  },
  {
   "cell_type": "markdown",
   "id": "05fb8bf3",
   "metadata": {},
   "source": [
    "## Summary of Findings\n",
    "Summary of Findings:\n",
    "- Survival higher among females and higher passenger classes.\n",
    "- Fare (wealth) is associated with better survival.\n",
    "- Children had better chances of survival.\n",
    "- Missing Age/Embarked values need imputation for modeling.\n",
    "- Next steps: feature engineering (family size, titles, cabin decks), preprocessing for ML models."
   ]
  }
 ],
 "metadata": {},
 "nbformat": 4,
 "nbformat_minor": 5
}
